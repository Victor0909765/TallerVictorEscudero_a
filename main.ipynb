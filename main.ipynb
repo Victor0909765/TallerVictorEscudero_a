{
  "cells": [
    {
      "cell_type": "markdown",
      "metadata": {
        "id": "RixBayOUwI0H"
      },
      "source": [
        "# TÍTULO DEL PROYECTO\n",
        "> Resumen y objetivos del proyecto\n",
        "\n",
        "...\n",
        "\n",
        "> Datos del autor\n",
        "\n",
        "..."
      ]
    },
    {
      "cell_type": "markdown",
      "metadata": {
        "id": "W8PuJp06wI0K"
      },
      "source": [
        "## Instalación de librerías"
      ]
    },
    {
      "cell_type": "code",
      "execution_count": 1,
      "metadata": {
        "id": "7eswc84YwI0K"
      },
      "outputs": [],
      "source": [
        "# Agregar todas las que sean necesarias para su proyecto\n",
        "#!pip install numpy\n",
        "#!pip install pandas\n"
      ]
    },
    {
      "cell_type": "markdown",
      "metadata": {
        "id": "b7kmANAdwI0L"
      },
      "source": [
        "## Procesamiento de datos\n"
      ]
    },
    {
      "cell_type": "markdown",
      "metadata": {
        "id": "tLCmLpnGwI0M"
      },
      "source": [
        "Elimar: Código de referencia"
      ]
    },
    {
      "cell_type": "code",
      "execution_count": 2,
      "metadata": {
        "id": "5EezOqsuwI0M",
        "outputId": "6d214289-c1d7-42f5-c7f3-f2377d0e2419",
        "colab": {
          "base_uri": "https://localhost:8080/"
        }
      },
      "outputs": [
        {
          "output_type": "stream",
          "name": "stdout",
          "text": [
            "[ 6  0 27]\n",
            "81\n",
            "La tapa del solido es =  6x + 0y + 27z = 81\n"
          ]
        }
      ],
      "source": [
        "import numpy as np\n",
        "\n",
        "def vector_normal(punto_1, punto_2, punto_3):     #Se asume una funcio[n para calcular el vector normal medinate el producto cruz\n",
        "    vector_a = punto_3 - punto_1                    #Se escribe la formula para sacar el vectro a y b\n",
        "    vector_b =  punto_2 - punto_1\n",
        "    vector_normal = np.cross(vector_a, vector_b)   #Se escribe la formula para sacar el producto cruz del vectro a y b mediante np.acroos\n",
        "    return vector_normal                            # Retorna el vector perpendicular a los dos vectores directores a y b\n",
        "\n",
        "punto_1 = np.array([0, 0, 3])   #Se definen los puntos para que se evaluen en la funcion.\n",
        "\n",
        "punto_2 = np.array([0, 3, 3])\n",
        "\n",
        "punto_3 = np.array([9, 3, 1])\n",
        "\n",
        "vector_normal_final = vector_normal(punto_1, punto_2, punto_3) #Se crean una variable para que almacene las operaciones del bloque de la funcion.\n",
        "print(vector_normal_final)     #Se imprime el vector normal.\n",
        "\n",
        "\n",
        "\n",
        "\n",
        "#El producto punt nos ayuda a sacar el plano que tapa el solido mediante una multiplicacion escalar con el vector normal y un punto cualquiera del plano\n",
        "\n",
        "def producto_punto(vector_normal_final, punto_cualquiera):\n",
        "    pro_punto = np.dot(vector_normal_final, punto_cualquiera)\n",
        "    return pro_punto\n",
        "\n",
        "punto_cualquiera = np.array([0, 0, 3])\n",
        "\n",
        "valor_numerico_tapa_del_solido = producto_punto(vector_normal_final, punto_cualquiera)\n",
        "print(valor_numerico_tapa_del_solido)\n",
        "\n",
        "\n",
        "# En este apartado se craera la funcion de tres variables que tapa al solido\n",
        "\n",
        "\n",
        "ec = vector_normal_final\n",
        "\n",
        "def ecuacion_del_solido(ec):\n",
        "    x, y, z = ec\n",
        "    ecuacion = f\"{x}x + {y}y + {z}z\"\n",
        "    return ecuacion\n",
        "\n",
        "\n",
        "funcion_fnal = ecuacion_del_solido(ec)\n",
        "\n",
        "print(\"La tapa del solido es = \", funcion_fnal, \"=\" ,valor_numerico_tapa_del_solido)"
      ]
    },
    {
      "cell_type": "markdown",
      "metadata": {
        "id": "SyXRXBAewI0M"
      },
      "source": [
        "## Visualización de información"
      ]
    },
    {
      "cell_type": "markdown",
      "metadata": {
        "id": "qP4kidzlwI0N"
      },
      "source": [
        "Elimar: Código de referencia"
      ]
    },
    {
      "cell_type": "code",
      "execution_count": 9,
      "metadata": {
        "id": "PlngvzicwI0N"
      },
      "outputs": [],
      "source": [
        "# se importa los modulos a utilizar\n",
        "import matplotlib.pyplot as plt\n",
        "from mpl_toolkits.mplot3d import Axes3D\n",
        "import numpy as np\n"
      ]
    },
    {
      "cell_type": "code",
      "execution_count": null,
      "metadata": {
        "id": "-vkKmm7wwI0O"
      },
      "outputs": [],
      "source": []
    }
  ],
  "metadata": {
    "kernelspec": {
      "display_name": "Python 3",
      "language": "python",
      "name": "python3"
    },
    "language_info": {
      "codemirror_mode": {
        "name": "ipython",
        "version": 3
      },
      "file_extension": ".py",
      "mimetype": "text/x-python",
      "name": "python",
      "nbconvert_exporter": "python",
      "pygments_lexer": "ipython3",
      "version": "3.9.7"
    },
    "orig_nbformat": 4,
    "colab": {
      "provenance": []
    }
  },
  "nbformat": 4,
  "nbformat_minor": 0
}